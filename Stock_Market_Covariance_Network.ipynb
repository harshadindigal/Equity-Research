{
  "nbformat": 4,
  "nbformat_minor": 0,
  "metadata": {
    "colab": {
      "name": "Stock Market Correlation Network",
      "provenance": [],
      "collapsed_sections": [],
      "include_colab_link": true
    },
    "kernelspec": {
      "name": "python3",
      "display_name": "Python 3"
    }
  },
  "cells": [
    {
      "cell_type": "markdown",
      "metadata": {
        "id": "view-in-github",
        "colab_type": "text"
      },
      "source": [
        "<a href=\"https://colab.research.google.com/github/harshadindigal/Equity-Research/blob/master/Stock_Market_Covariance_Network.ipynb\" target=\"_parent\"><img src=\"https://colab.research.google.com/assets/colab-badge.svg\" alt=\"Open In Colab\"/></a>"
      ]
    },
    {
      "cell_type": "code",
      "metadata": {
        "id": "2Bp4kmCT7Tpl",
        "colab_type": "code",
        "colab": {}
      },
      "source": [
        "token_key = 'sk_16874be72c46436481711884deb698aa'"
      ],
      "execution_count": 0,
      "outputs": []
    },
    {
      "cell_type": "code",
      "metadata": {
        "id": "85qBblKxykb9",
        "colab_type": "code",
        "colab": {}
      },
      "source": [
        "!pip install iexfinance"
      ],
      "execution_count": 0,
      "outputs": []
    },
    {
      "cell_type": "code",
      "metadata": {
        "id": "rLw5nL3-y-_M",
        "colab_type": "code",
        "colab": {}
      },
      "source": [
        "from iexfinance.refdata import get_symbols\n",
        "from iexfinance.stocks import Stock\n",
        "from datetime import datetime\n",
        "from datetime import date\n",
        "from iexfinance.stocks import get_historical_data\n",
        "import matplotlib.pyplot as plt\n",
        "import pandas as pd\n",
        "def add_obj(obj, add_obj):\n",
        "  for property in add_obj:\n",
        "    obj[property] = add_obj[property]\n",
        "  return obj\n",
        "\n",
        "def get_percent_change (tickers):\n",
        "  start = datetime(2015, 1, 1)\n",
        "\n",
        "  #Retrieve First Ticker and Include Percentage Change\n",
        "  print(tickers[0])\n",
        "  df = get_historical_data(tickers[0], start, date.today(), output_format='pandas',token = token_key)\n",
        "  df['perct-chnge'] = (df['close'] - df['open'])/df['open']  \n",
        "  percentage_data = df['perct-chnge']\n",
        "  percentage_data.columns = [tickers[0]]\n",
        "  percentage_data = percentage_data.to_frame(tickers[0])\n",
        "\n",
        "  if len(tickers) == 1:\n",
        "    print('reached')\n",
        "    return percentage_data\n",
        "  for i  in range(1,len(tickers)):\n",
        "    df_1 = get_historical_data(tickers[i], start, date.today(), output_format='pandas',token = token_key)\n",
        "    df_1['perct-chnge'] = (df_1['close'] - df_1['open'])/df_1['open']\n",
        "    current_data = df_1['perct-chnge']\n",
        "    current_data.columns = [tickers[i]]\n",
        "    current_data = current_data.to_frame(tickers[i])\n",
        "    percentage_data = add_obj(percentage_data,current_data)\n",
        "    \n",
        " \n",
        "  return percentage_data\n",
        "\n",
        "\n"
      ],
      "execution_count": 0,
      "outputs": []
    },
    {
      "cell_type": "code",
      "metadata": {
        "id": "c3Y46mEK-zn9",
        "colab_type": "code",
        "colab": {
          "resources": {
            "http://localhost:8080/nbextensions/google.colab/files.js": {
              "data": "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",
              "ok": true,
              "headers": [
                [
                  "content-type",
                  "application/javascript"
                ]
              ],
              "status": 200,
              "status_text": ""
            }
          },
          "base_uri": "https://localhost:8080/",
          "height": 75
        },
        "outputId": "b1a34aff-a084-461b-b1c8-f98e76aae5f2"
      },
      "source": [
        "from google.colab import files\n",
        "uploaded = files.upload()"
      ],
      "execution_count": 130,
      "outputs": [
        {
          "output_type": "display_data",
          "data": {
            "text/html": [
              "\n",
              "     <input type=\"file\" id=\"files-d7112871-fdcf-4ef1-8df3-1c8401d6e9b6\" name=\"files[]\" multiple disabled />\n",
              "     <output id=\"result-d7112871-fdcf-4ef1-8df3-1c8401d6e9b6\">\n",
              "      Upload widget is only available when the cell has been executed in the\n",
              "      current browser session. Please rerun this cell to enable.\n",
              "      </output>\n",
              "      <script src=\"/nbextensions/google.colab/files.js\"></script> "
            ],
            "text/plain": [
              "<IPython.core.display.HTML object>"
            ]
          },
          "metadata": {
            "tags": []
          }
        },
        {
          "output_type": "stream",
          "text": [
            "Saving spy500.csv to spy500.csv\n"
          ],
          "name": "stdout"
        }
      ]
    },
    {
      "cell_type": "code",
      "metadata": {
        "id": "u8-V2EfhCdZ6",
        "colab_type": "code",
        "colab": {
          "base_uri": "https://localhost:8080/",
          "height": 272
        },
        "outputId": "3f3c400b-567c-4f7e-cda2-d8dac1974a37"
      },
      "source": [
        "spy_data = pd.read_csv('spy500.csv')\n",
        "print(spy_data)"
      ],
      "execution_count": 215,
      "outputs": [
        {
          "output_type": "stream",
          "text": [
            "     Rank                          Company Symbol    Weight\n",
            "0       1            Microsoft Corporation   MSFT  4.339825\n",
            "1       2                       Apple Inc.   AAPL  4.303320\n",
            "2       3                  Amazon.com Inc.   AMZN  2.889579\n",
            "3       4            Facebook Inc. Class A     FB  1.788049\n",
            "4       5  Berkshire Hathaway Inc. Class B  BRK.B  1.690041\n",
            "..    ...                              ...    ...       ...\n",
            "500   501                 TripAdvisor Inc.   TRIP  0.012509\n",
            "501   502        Under Armour Inc. Class A    UAA  0.012427\n",
            "502   503        Under Armour Inc. Class C     UA  0.011972\n",
            "503   504                 Macerich Company    MAC  0.011379\n",
            "504   505         News Corporation Class B    NWS  0.006355\n",
            "\n",
            "[505 rows x 4 columns]\n"
          ],
          "name": "stdout"
        }
      ]
    },
    {
      "cell_type": "code",
      "metadata": {
        "id": "pJMoUjqWFff0",
        "colab_type": "code",
        "colab": {
          "base_uri": "https://localhost:8080/",
          "height": 55
        },
        "outputId": "afc47d43-9f4b-45cf-c2be-8580530c4cd0"
      },
      "source": [
        "test_data = spy_data.iloc[0:420,2]\n",
        "prong = test_data.to_frame().T.values.tolist()\n",
        "print (prong[0])\n",
        "\n",
        " "
      ],
      "execution_count": 249,
      "outputs": [
        {
          "output_type": "stream",
          "text": [
            "['MSFT', 'AAPL', 'AMZN', 'FB', 'BRK.B', 'JPM', 'GOOG', 'GOOGL', 'JNJ', 'V', 'PG', 'XOM', 'T', 'BAC', 'INTC', 'HD', 'DIS', 'VZ', 'MA', 'UNH', 'CVX', 'WFC', 'MRK', 'CSCO', 'CMCSA', 'PFE', 'KO', 'BA', 'PEP', 'C', 'WMT', 'ABT', 'MCD', 'MDT', 'ADBE', 'CRM', 'COST', 'AMGN', 'HON', 'PM', 'NFLX', 'NVDA', 'ABBV', 'AVGO', 'ORCL', 'UNP', 'IBM', 'ACN', 'UTX', 'PYPL', 'TMO', 'QCOM', 'NKE', 'TXN', 'LIN', 'NEE', 'GE', 'MMM', 'SBUX', 'LLY', 'LMT', 'BMY', 'CVS', 'AMT', 'LOW', 'UPS', 'MO', 'DHR', 'USB', 'CAT', 'GILD', 'AXP', 'FIS', 'BKNG', 'CELG', 'CHTR', 'MDLZ', 'ANTM', 'GS', 'TJX', 'CI', 'CME', 'ADP', 'CB', 'PNC', 'INTU', 'D', 'BDX', 'COP', 'DUK', 'SYK', 'SO', 'ISRG', 'FISV', 'SPGI', 'MS', 'RTN', 'AGN', 'CSX', 'BLK', 'CL', 'TGT', 'BSX', 'DE', 'ZTS', 'NOC', 'PLD', 'CCI', 'BIIB', 'PSX', 'DD', 'MMC', 'MU', 'ITW', 'AMAT', 'VRTX', 'NSC', 'APD', 'GPN', 'ICE', 'SCHW', 'SLB', 'EW', 'GM', 'AIG', 'SHW', 'ECL', 'SPG', 'AON', 'COF', 'EMR', 'KMB', 'EQIX', 'WBA', 'LHX', 'AEP', 'MPC', 'EXC', 'WM', 'GD', 'EOG', 'ILMN', 'PGR', 'HUM', 'BK', 'BBT', 'VLO', 'ADI', 'DOW', 'ATVI', 'EL', 'SYY', 'ROST', 'DG', 'BAX', 'AFL', 'LRCX', 'AMD', 'MET', 'FDX', 'KMI', 'ETN', 'SRE', 'PRU', 'MAR', 'HCA', 'OXY', 'ALL', 'MCO', 'F', 'ROP', 'TRV', 'CTSH', 'JCI', 'ORLY', 'ADSK', 'WELL', 'DAL', 'TEL', 'PSA', 'XEL', 'IR', 'GIS', 'STZ', 'STI', 'PEG', 'APH', 'PPG', 'YUM', 'NEM', 'CMI', 'EQR', 'ZBH', 'AVB', 'ED', 'OKE', 'EA', 'HPQ', 'AZO', 'HLT', 'TROW', 'VFC', 'LUV', 'INFO', 'KLAC', 'EBAY', 'PCAR', 'WEC', 'REGN', 'STT', 'MSI', 'DFS', 'TDG', 'WMB', 'PAYX', 'DLTR', 'MCK', 'SBAC', 'PH', 'TMUS', 'ES', 'FLT', 'FE', 'LYB', 'IQV', 'APTV', 'ALXN', 'TSN', 'PPL', 'XLNX', 'ADM', 'DLR', 'O', 'SWK', 'WLTW', 'GLW', 'EIX', 'A', 'NTRS', 'ETR', 'HPE', 'MCHP', 'PXD', 'CNC', 'TWTR', 'SYF', 'MNST', 'MTB', 'VRSK', 'FITB', 'HIG', 'DTE', 'VTR', 'LVS', 'WY', 'AME', 'IDXX', 'CTAS', 'KR', 'FTV', 'BLL', 'CERN', 'FAST', 'HSY', 'AWK', 'ROK', 'AMP', 'UAL', 'ESS', 'MSCI', 'RMD', 'KHC', 'SNPS', 'BXP', 'KEYS', 'CTVA', 'RCL', 'MKC', 'KEY', 'CDW', 'VRSN', 'ALGN', 'CDNS', 'ANSS', 'CMG', 'CLX', 'HES', 'FRC', 'CBRE', 'HAL', 'RSG', 'IP', 'VMC', 'AEE', 'CCL', 'BBY', 'OMC', 'MTD', 'SWKS', 'ARE', 'CFG', 'DHI', 'NUE', 'CMS', 'RF', 'AJG', 'FCX', 'PEAK', 'CHD', 'CINF', 'LH', 'LEN', 'MGM', 'CPRT', 'MXIM', 'EFX', 'MLM', 'K', 'DOV', 'AMCR', 'CAH', 'CE', 'KMX', 'HBAN', 'GPC', 'KSU', 'TFX', 'WCG', 'WDC', 'MAA', 'INCY', 'EVRG', 'CXO', 'BKR', 'WAB', 'GWW', 'CNP', 'COO', 'PFG', 'IT', 'CTL', 'IFF', 'NTAP', 'NLOK', 'ULTA', 'WAT', 'EXPE', 'DRI', 'STX', 'UDR', 'GRMN', 'XYL', 'AKAM', 'BR', 'FTNT', 'CTXS', 'DGX', 'TIF', 'EXR', 'MAS', 'CAG', 'L', 'EXPD', 'ABC', 'TTWO', 'MKTX', 'XRAY', 'FMC', 'JEC', 'CBOE', 'HST', 'ATO', 'CBS', 'HOLX', 'QRVO', 'DRE', 'SIVB', 'FOXA', 'FANG', 'WYNN', 'LNT', 'AAL', 'LNC', 'SJM', 'URI', 'AAP', 'IEX', 'WU', 'LDOS', 'BF.B', 'NDAQ', 'AES', 'EMN', 'NVR', 'LW', 'UHS', 'JKHY', 'HRL', 'VAR', 'TSCO', 'AVY', 'ARNC', 'NCLH', 'RJF', 'HAS', 'LKQ', 'ALLE', 'REG', 'CMA', 'TXT', 'PKG', 'RE', 'CHRW', 'ANET', 'ETFC', 'VNO', 'HII', 'HSIC', 'NBL', 'JBHT']\n"
          ],
          "name": "stdout"
        }
      ]
    },
    {
      "cell_type": "code",
      "metadata": {
        "id": "_DFKvcHnCrlV",
        "colab_type": "code",
        "colab": {
          "base_uri": "https://localhost:8080/",
          "height": 308
        },
        "outputId": "0ddca37c-ceda-408f-f0d5-0eb6de1485ae"
      },
      "source": [
        "\n",
        "spy_correlation_data = get_percent_change(prong[0])\n",
        "print(spy_correlation_data)\n",
        "spy_correlation_data.to_csv()\n",
        " "
      ],
      "execution_count": 251,
      "outputs": [
        {
          "output_type": "stream",
          "text": [
            "MSFT\n",
            "                MSFT      AAPL      AMZN  ...      HSIC       NBL      JBHT\n",
            "date                                      ...                              \n",
            "2015-01-02  0.002143 -0.018494 -0.012989  ...  0.001757 -0.004037 -0.016428\n",
            "2015-01-05 -0.000863 -0.018838 -0.015700  ... -0.009205 -0.079279 -0.008960\n",
            "2015-01-06 -0.015740 -0.002628 -0.022995  ... -0.006778 -0.008988 -0.021887\n",
            "2015-01-07  0.005437  0.005131  0.003092  ...  0.018824 -0.017882 -0.008519\n",
            "2015-01-08  0.017968  0.024352  0.000466  ...  0.008904  0.024680  0.007564\n",
            "...              ...       ...       ...  ...       ...       ...       ...\n",
            "2019-11-04 -0.001933  0.000661  0.002027  ...  0.036260  0.046124  0.001162\n",
            "2019-11-05 -0.003518  0.000311 -0.004118  ...  0.042321  0.007907 -0.006546\n",
            "2019-11-06 -0.002147  0.001830 -0.002904  ...  0.024492 -0.028359  0.001922\n",
            "2019-11-07  0.002920  0.002667 -0.008626  ... -0.003768 -0.031103  0.005167\n",
            "2019-11-08  0.013752  0.005605 -0.001124  ...  0.001744  0.054107 -0.005223\n",
            "\n",
            "[1223 rows x 420 columns]\n"
          ],
          "name": "stdout"
        }
      ]
    },
    {
      "cell_type": "code",
      "metadata": {
        "id": "LiE7hFaCV3Xy",
        "colab_type": "code",
        "colab": {}
      },
      "source": [
        "from google.colab import files\n",
        "spy_correlation_data.to_csv('CorrelationData2015-November8.csv') \n",
        "files.download('CorrelationData2015-November8.csv')"
      ],
      "execution_count": 0,
      "outputs": []
    }
  ]
}